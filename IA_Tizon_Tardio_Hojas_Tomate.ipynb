{
  "nbformat": 4,
  "nbformat_minor": 0,
  "metadata": {
    "colab": {
      "provenance": [],
      "authorship_tag": "ABX9TyOqeJEWg4yYCgXtaDVelk6x",
      "include_colab_link": true
    },
    "kernelspec": {
      "name": "python3",
      "display_name": "Python 3"
    },
    "language_info": {
      "name": "python"
    }
  },
  "cells": [
    {
      "cell_type": "markdown",
      "metadata": {
        "id": "view-in-github",
        "colab_type": "text"
      },
      "source": [
        "<a href=\"https://colab.research.google.com/github/Jeiderbeltran/IA_Tizon_Tardio_Hojas_Tomate_/blob/main/IA_Tizon_Tardio_Hojas_Tomate.ipynb\" target=\"_parent\"><img src=\"https://colab.research.google.com/assets/colab-badge.svg\" alt=\"Open In Colab\"/></a>"
      ]
    },
    {
      "cell_type": "code",
      "execution_count": 15,
      "metadata": {
        "id": "wDOM4AraFxlx"
      },
      "outputs": [],
      "source": [
        "# Instalar dependencias\n",
        "!pip install -q tensorflow tensorflow-datasets"
      ]
    },
    {
      "cell_type": "code",
      "source": [
        "# Clonar el repositorio\n",
        "!pip install -q tensorflo\n",
        "from google.colab import output\n",
        "!git clone https://github.com/Jeiderbeltran/IA_Tizon_Tardio_Hojas_Tomate_.git"
      ],
      "metadata": {
        "colab": {
          "base_uri": "https://localhost:8080/"
        },
        "id": "gXcnQa4q85iz",
        "outputId": "af7c01c1-9ca2-48d0-b441-74bb521544f5",
        "collapsed": true
      },
      "execution_count": 16,
      "outputs": [
        {
          "output_type": "stream",
          "name": "stdout",
          "text": [
            "Cloning into 'IA_Tizon_Tardio_Hojas_Tomate_'...\n",
            "remote: Enumerating objects: 3511, done.\u001b[K\n",
            "remote: Counting objects: 100% (3/3), done.\u001b[K\n",
            "remote: Compressing objects: 100% (2/2), done.\u001b[K\n",
            "remote: Total 3511 (delta 0), reused 2 (delta 0), pack-reused 3508 (from 2)\u001b[K\n",
            "Receiving objects: 100% (3511/3511), 117.16 MiB | 21.75 MiB/s, done.\n",
            "Resolving deltas: 100% (7/7), done.\n",
            "Updating files: 100% (7018/7018), done.\n",
            "Encountered 1 file(s) that should have been pointers, but weren't:\n",
            "\tmodelos_entrenados/modelo_tizon_v20251016_2051.keras\n"
          ]
        }
      ]
    },
    {
      "cell_type": "code",
      "source": [
        "\n",
        "import os\n",
        "base_dir = \"/content/IA_Tizon_Tardio_Hojas_Tomate_/dataset_organizado\""
      ],
      "metadata": {
        "id": "WMKhho38aHbu"
      },
      "execution_count": 17,
      "outputs": []
    },
    {
      "cell_type": "code",
      "source": [
        "import tensorflow as tf\n",
        "\n",
        "BATCH_SIZE = 25\n",
        "SEED = 123\n",
        "\n",
        "train_dir = os.path.join(base_dir, \"train\")\n",
        "val_dir   = os.path.join(base_dir, \"val\")\n",
        "test_dir  = os.path.join(base_dir, \"test\")\n",
        "\n",
        "train_ds = tf.keras.utils.image_dataset_from_directory(\n",
        "    train_dir,\n",
        "    labels='inferred',\n",
        "    label_mode='int',\n",
        "    batch_size=None,\n",
        "    shuffle=True,\n",
        "    seed=SEED\n",
        ")\n",
        "\n",
        "val_ds = tf.keras.utils.image_dataset_from_directory(\n",
        "    val_dir,\n",
        "    labels='inferred',\n",
        "    label_mode='int',\n",
        "    batch_size=None,\n",
        "    shuffle=False\n",
        ")\n",
        "\n",
        "test_ds = tf.keras.utils.image_dataset_from_directory(\n",
        "    test_dir,\n",
        "    labels='inferred',\n",
        "    label_mode='int',\n",
        "    batch_size=None,\n",
        "    shuffle=False\n",
        ")\n"
      ],
      "metadata": {
        "colab": {
          "base_uri": "https://localhost:8080/"
        },
        "id": "utg_1liaYPgE",
        "outputId": "71aa768c-b562-418f-c80e-19f197faca68"
      },
      "execution_count": 18,
      "outputs": [
        {
          "output_type": "stream",
          "name": "stdout",
          "text": [
            "Found 2464 files belonging to 2 classes.\n",
            "Found 700 files belonging to 2 classes.\n",
            "Found 351 files belonging to 2 classes.\n"
          ]
        }
      ]
    },
    {
      "cell_type": "code",
      "source": [
        "# Proceso de segmentacion\n",
        "import numpy as np\n",
        "import cv2\n",
        "import matplotlib.pyplot as plt\n",
        "\n",
        "def segment_leaf(image):\n",
        "    import numpy as np\n",
        "    import cv2\n",
        "\n",
        "    img = np.array(image)\n",
        "\n",
        "    #  Normalizar siempre la forma del array\n",
        "    if img.ndim == 2:\n",
        "        # Escala de grises → 3 canales RGB\n",
        "        img = cv2.cvtColor(img, cv2.COLOR_GRAY2RGB)\n",
        "    elif img.ndim == 3:\n",
        "        if img.shape[-1] == 1:\n",
        "            img = cv2.cvtColor(img, cv2.COLOR_GRAY2RGB)\n",
        "        elif img.shape[-1] == 4:\n",
        "            img = cv2.cvtColor(img, cv2.COLOR_RGBA2RGB)\n",
        "        elif img.shape[-1] != 3:\n",
        "            # Si llega algo extraño, replicar canales manualmente\n",
        "            img = np.repeat(img[..., :1], 3, axis=-1)\n",
        "    else:\n",
        "        # Si llega mal dimensionada, convertir a RGB plano\n",
        "        img = np.stack([img]*3, axis=-1)\n",
        "\n",
        "    # Conversión a HSV\n",
        "    try:\n",
        "        hsv = cv2.cvtColor(img, cv2.COLOR_RGB2HSV)\n",
        "    except Exception as e:\n",
        "        print(f\"Error al convertir a HSV. Forma de imagen: {img.shape}\")\n",
        "        # Convertir a RGB por defecto si el HSV falla\n",
        "        hsv = cv2.cvtColor(cv2.cvtColor(img, cv2.COLOR_BGR2RGB), cv2.COLOR_RGB2HSV)\n",
        "\n",
        "    # --- Rango de color para hoja sana y enferma ---\n",
        "    lower_green = np.array([25, 40, 40])\n",
        "    upper_green = np.array([95, 255, 255])\n",
        "    mask_green = cv2.inRange(hsv, lower_green, upper_green)\n",
        "\n",
        "    lower_brown = np.array([10, 30, 30])\n",
        "    upper_brown = np.array([25, 255, 255])\n",
        "    mask_brown = cv2.inRange(hsv, lower_brown, upper_brown)\n",
        "\n",
        "    mask = cv2.bitwise_or(mask_green, mask_brown)\n",
        "\n",
        "    # --- Limpieza con morfología ---\n",
        "    kernel = np.ones((5,5), np.uint8)\n",
        "    mask = cv2.morphologyEx(mask, cv2.MORPH_CLOSE, kernel)\n",
        "    mask = cv2.morphologyEx(mask, cv2.MORPH_OPEN, kernel)\n",
        "\n",
        "    # --- Segmentar hoja más grande ---\n",
        "    contours, _ = cv2.findContours(mask, cv2.RETR_EXTERNAL, cv2.CHAIN_APPROX_SIMPLE)\n",
        "    if contours:\n",
        "        c = max(contours, key=cv2.contourArea)\n",
        "        mask_clean = np.zeros_like(mask)\n",
        "        cv2.drawContours(mask_clean, [c], -1, 255, -1)\n",
        "        segmented = cv2.bitwise_and(img, img, mask=mask_clean)\n",
        "    else:\n",
        "        segmented = img\n",
        "\n",
        "    return segmented\n",
        "\n"
      ],
      "metadata": {
        "id": "WfLZoEDW6dyb"
      },
      "execution_count": 19,
      "outputs": []
    },
    {
      "cell_type": "code",
      "source": [
        " # Proceso de Eliminacion de ruido\n",
        "\n",
        "def denoise_image(image):\n",
        "    denoised = cv2.medianBlur(image, 3)\n",
        "    return denoised\n"
      ],
      "metadata": {
        "id": "drFoTqTEEk9Q"
      },
      "execution_count": 21,
      "outputs": []
    },
    {
      "cell_type": "code",
      "source": [
        " # Convertir a escala de grises\n",
        "def to_grayscale(image):\n",
        "    gray = cv2.cvtColor(image, cv2.COLOR_RGB2GRAY)\n",
        "    return gray"
      ],
      "metadata": {
        "id": "RkW2VAdTL5-p"
      },
      "execution_count": 22,
      "outputs": []
    },
    {
      "cell_type": "code",
      "source": [
        "  # Porceso de normalizacion\n",
        "def normalize_image(image):\n",
        "    norm = image.astype(\"float32\") / 255.0\n",
        "    return norm\n"
      ],
      "metadata": {
        "id": "f9heHZM1O2PZ"
      },
      "execution_count": 23,
      "outputs": []
    },
    {
      "cell_type": "code",
      "source": [
        "# Aumento de datos\n",
        "data_augmentation = tf.keras.Sequential([\n",
        "    tf.keras.layers.RandomFlip(\"horizontal_and_vertical\"),\n",
        "    tf.keras.layers.RandomRotation(0.1),\n",
        "    tf.keras.layers.RandomZoom(0.1),\n",
        "    tf.keras.layers.RandomContrast(0.1),\n",
        "])\n"
      ],
      "metadata": {
        "id": "lOh--CHCTNic"
      },
      "execution_count": 24,
      "outputs": []
    },
    {
      "cell_type": "code",
      "source": [
        "def custom_preprocessing(image, label):\n",
        "    import tensorflow as tf\n",
        "    import numpy as np\n",
        "    import cv2\n",
        "\n",
        "    # Convertir a numpy\n",
        "    if isinstance(image, tf.Tensor):\n",
        "        image = image.numpy()\n",
        "\n",
        "    # imagen tiene 3 canales\n",
        "    if len(image.shape) == 2:  # Escala de grises\n",
        "        image = cv2.cvtColor(image, cv2.COLOR_GRAY2RGB)\n",
        "    elif image.shape[-1] == 1:\n",
        "        image = cv2.cvtColor(image, cv2.COLOR_GRAY2RGB)\n",
        "    elif image.shape[-1] == 4:  # Con alfa\n",
        "        image = cv2.cvtColor(image, cv2.COLOR_RGBA2RGB)\n",
        "\n",
        "    # --- Etapas del preprocesamiento ---\n",
        "    image = segment_leaf(image)       # Segmentación por color HSV\n",
        "    image = denoise_image(image)      # Eliminación de ruido\n",
        "    image = to_grayscale(image)       # Conversión a gris\n",
        "    image = cv2.resize(image, (256, 256))  # Escalado uniforme\n",
        "    image = normalize_image(image)    # Normalización [0,1]\n",
        "\n",
        "    # Expandir a (256,256,1)\n",
        "    image = np.expand_dims(image, axis=-1)\n",
        "\n",
        "    return image.astype(\"float32\"), label\n"
      ],
      "metadata": {
        "id": "6Yl6hKsFdOk-"
      },
      "execution_count": 25,
      "outputs": []
    },
    {
      "cell_type": "code",
      "source": [
        "def tf_wrapper(image, label):\n",
        "    img, lbl = tf.py_function(\n",
        "        func=custom_preprocessing,\n",
        "        inp=[image, label],\n",
        "        Tout=[tf.float32, tf.int32]\n",
        "    )\n",
        "\n",
        "    # Quitar dimensiones sobrantes\n",
        "    img = tf.squeeze(img)\n",
        "    img = tf.reshape(img, (256, 256, 1))\n",
        "    lbl.set_shape(())\n",
        "\n",
        "    return img, lbl\n"
      ],
      "metadata": {
        "id": "Jf-Cl9Zn19On"
      },
      "execution_count": 26,
      "outputs": []
    },
    {
      "cell_type": "code",
      "source": [
        "# Aplicar al dataset\n",
        "train_ds_pre = train_ds.map(tf_wrapper, num_parallel_calls=tf.data.AUTOTUNE).batch(BATCH_SIZE)\n",
        "val_ds_pre   = val_ds.map(tf_wrapper, num_parallel_calls=tf.data.AUTOTUNE).batch(BATCH_SIZE)\n",
        "test_ds_pre  = test_ds.map(tf_wrapper, num_parallel_calls=tf.data.AUTOTUNE).batch(BATCH_SIZE)\n",
        "\n",
        "# Aumento de datos\n",
        "train_ds_pre = train_ds_pre.map(lambda x, y: (data_augmentation(x, training=True), y))\n",
        "\n",
        "# Prefetch\n",
        "train_ds_pre = train_ds_pre.prefetch(tf.data.AUTOTUNE)\n",
        "val_ds_pre   = val_ds_pre.prefetch(tf.data.AUTOTUNE)\n",
        "test_ds_pre  = test_ds_pre.prefetch(tf.data.AUTOTUNE)"
      ],
      "metadata": {
        "id": "E1Y14CPNfP_F"
      },
      "execution_count": 27,
      "outputs": []
    },
    {
      "cell_type": "code",
      "source": [
        "import tensorflow as tf\n",
        "from tensorflow.keras import layers, models\n",
        "\n",
        "\n",
        "\n",
        "def build_cnn(input_shape=(256, 256, 1), num_classes=2):\n",
        "    model = models.Sequential([\n",
        "\n",
        "\n",
        "        # Primera capa\n",
        "        layers.Conv2D(32, (3,3), activation='relu', input_shape=input_shape, padding=\"same\"),\n",
        "        layers.MaxPooling2D((2,2)),\n",
        "\n",
        "        # Segunda capa\n",
        "        layers.Conv2D(64, (3,3), activation='relu', padding=\"same\"),\n",
        "        layers.MaxPooling2D((2,2)),\n",
        "\n",
        "        # Tercera capa\n",
        "        layers.Conv2D(128, (3,3), activation='relu', padding=\"same\"),\n",
        "        layers.MaxPooling2D((2,2)),\n",
        "\n",
        "\n",
        "        # Evitar sobreajuste\n",
        "        layers.Dropout(0.3),\n",
        "\n",
        "        # Aplanado y capa densa\n",
        "        layers.Flatten(),\n",
        "        layers.Dense(128, activation='relu'),\n",
        "        layers.Dropout(0.3),\n",
        "\n",
        "        # Capa de salida\n",
        "        layers.Dense(num_classes, activation='softmax')\n",
        "    ])\n",
        "\n",
        "    # Compilación del modelo\n",
        "    model.compile(\n",
        "        optimizer=tf.keras.optimizers.Adam(learning_rate=0.001),\n",
        "        loss='sparse_categorical_crossentropy',\n",
        "        metrics=['accuracy']\n",
        "    )\n",
        "\n",
        "    return model\n",
        "\n",
        "# Crear el modelo\n",
        "cnn_model = build_cnn(input_shape=(256, 256, 1), num_classes=2)\n",
        "\n"
      ],
      "metadata": {
        "colab": {
          "base_uri": "https://localhost:8080/"
        },
        "collapsed": true,
        "id": "2qriS5LrTKyY",
        "outputId": "cdeb35e1-ed49-4ce9-da2e-4956235d981d"
      },
      "execution_count": 28,
      "outputs": [
        {
          "output_type": "stream",
          "name": "stderr",
          "text": [
            "/usr/local/lib/python3.12/dist-packages/keras/src/layers/convolutional/base_conv.py:113: UserWarning: Do not pass an `input_shape`/`input_dim` argument to a layer. When using Sequential models, prefer using an `Input(shape)` object as the first layer in the model instead.\n",
            "  super().__init__(activity_regularizer=activity_regularizer, **kwargs)\n"
          ]
        }
      ]
    },
    {
      "cell_type": "code",
      "source": [
        "# Callbacks\n",
        "callbacks = [\n",
        "    tf.keras.callbacks.ModelCheckpoint(\"best_model.h5\", save_best_only=True, monitor=\"val_loss\", mode=\"min\"),\n",
        "    tf.keras.callbacks.EarlyStopping(monitor=\"val_loss\", patience=5, restore_best_weights=True)\n",
        "]\n",
        "\n",
        "# Entrenamiento\n",
        "history = cnn_model.fit(\n",
        "    train_ds_pre,\n",
        "    validation_data=val_ds_pre,\n",
        "    epochs=1,\n",
        "    callbacks=callbacks\n",
        ")"
      ],
      "metadata": {
        "id": "oVCZYsZRxnKq",
        "colab": {
          "base_uri": "https://localhost:8080/"
        },
        "outputId": "9ec4d3c8-be54-469b-8e5c-59da0bafc16c",
        "collapsed": true
      },
      "execution_count": 30,
      "outputs": [
        {
          "output_type": "stream",
          "name": "stdout",
          "text": [
            "\u001b[1m99/99\u001b[0m \u001b[32m━━━━━━━━━━━━━━━━━━━━\u001b[0m\u001b[37m\u001b[0m \u001b[1m0s\u001b[0m 4s/step - accuracy: 0.5309 - loss: 0.9427"
          ]
        },
        {
          "output_type": "stream",
          "name": "stderr",
          "text": [
            "WARNING:absl:You are saving your model as an HDF5 file via `model.save()` or `keras.saving.save_model(model)`. This file format is considered legacy. We recommend using instead the native Keras format, e.g. `model.save('my_model.keras')` or `keras.saving.save_model(model, 'my_model.keras')`. \n"
          ]
        },
        {
          "output_type": "stream",
          "name": "stdout",
          "text": [
            "\b\b\b\b\b\b\b\b\b\b\b\b\b\b\b\b\b\b\b\b\b\b\b\b\b\b\b\b\b\b\b\b\b\b\b\b\b\b\b\b\b\b\b\b\b\b\b\b\b\b\b\b\b\b\b\b\b\b\b\b\b\b\b\b\b\b\b\b\b\b\b\r\u001b[1m99/99\u001b[0m \u001b[32m━━━━━━━━━━━━━━━━━━━━\u001b[0m\u001b[37m\u001b[0m \u001b[1m385s\u001b[0m 4s/step - accuracy: 0.5313 - loss: 0.9405 - val_accuracy: 0.6100 - val_loss: 0.6265\n"
          ]
        }
      ]
    },
    {
      "cell_type": "code",
      "source": [
        "import os\n",
        "import datetime\n",
        "from tensorflow.keras.models import load_model\n",
        "from google.colab import files\n",
        "\n",
        "nombre_modelo = f\"modelo_tizon_v{datetime.datetime.now().strftime('%Y%m%d_%H%M')}.keras\"\n",
        "\n",
        "\n",
        "best_model_path = \"best_model.h5\"\n",
        "if not os.path.exists(best_model_path):\n",
        "    raise FileNotFoundError(\" No se encontró el archivo 'best_model.h5'. Asegúrate de haber terminado el entrenamiento correctamente.\")\n",
        "\n",
        "\n",
        "modelo = load_model(best_model_path)\n",
        "modelo.save(nombre_modelo)\n",
        "print(f\" Modelo guardado  como: {nombre_modelo}\")"
      ],
      "metadata": {
        "colab": {
          "base_uri": "https://localhost:8080/"
        },
        "id": "g-NHiFBSWdcc",
        "outputId": "fae1b301-c3a6-420a-9bd9-c4a6c59ec8c4"
      },
      "execution_count": 31,
      "outputs": [
        {
          "output_type": "stream",
          "name": "stderr",
          "text": [
            "WARNING:absl:Compiled the loaded model, but the compiled metrics have yet to be built. `model.compile_metrics` will be empty until you train or evaluate the model.\n"
          ]
        },
        {
          "output_type": "stream",
          "name": "stdout",
          "text": [
            " Modelo guardado  como: modelo_tizon_v20251016_2353.keras\n"
          ]
        }
      ]
    },
    {
      "cell_type": "code",
      "source": [
        "#,Descargar automáticamente el archivo\n",
        "files.download(nombre_modelo)\n",
        "print(\" Descarga iniciada. Espera unos segundos para guardar el archivo en tu PC.\")"
      ],
      "metadata": {
        "colab": {
          "base_uri": "https://localhost:8080/",
          "height": 35
        },
        "collapsed": true,
        "id": "KdnrLTvGvYvg",
        "outputId": "6abf2c43-e52d-455f-a939-af8d5150ce62"
      },
      "execution_count": 32,
      "outputs": [
        {
          "output_type": "display_data",
          "data": {
            "text/plain": [
              "<IPython.core.display.Javascript object>"
            ],
            "application/javascript": [
              "\n",
              "    async function download(id, filename, size) {\n",
              "      if (!google.colab.kernel.accessAllowed) {\n",
              "        return;\n",
              "      }\n",
              "      const div = document.createElement('div');\n",
              "      const label = document.createElement('label');\n",
              "      label.textContent = `Downloading \"${filename}\": `;\n",
              "      div.appendChild(label);\n",
              "      const progress = document.createElement('progress');\n",
              "      progress.max = size;\n",
              "      div.appendChild(progress);\n",
              "      document.body.appendChild(div);\n",
              "\n",
              "      const buffers = [];\n",
              "      let downloaded = 0;\n",
              "\n",
              "      const channel = await google.colab.kernel.comms.open(id);\n",
              "      // Send a message to notify the kernel that we're ready.\n",
              "      channel.send({})\n",
              "\n",
              "      for await (const message of channel.messages) {\n",
              "        // Send a message to notify the kernel that we're ready.\n",
              "        channel.send({})\n",
              "        if (message.buffers) {\n",
              "          for (const buffer of message.buffers) {\n",
              "            buffers.push(buffer);\n",
              "            downloaded += buffer.byteLength;\n",
              "            progress.value = downloaded;\n",
              "          }\n",
              "        }\n",
              "      }\n",
              "      const blob = new Blob(buffers, {type: 'application/binary'});\n",
              "      const a = document.createElement('a');\n",
              "      a.href = window.URL.createObjectURL(blob);\n",
              "      a.download = filename;\n",
              "      div.appendChild(a);\n",
              "      a.click();\n",
              "      div.remove();\n",
              "    }\n",
              "  "
            ]
          },
          "metadata": {}
        },
        {
          "output_type": "display_data",
          "data": {
            "text/plain": [
              "<IPython.core.display.Javascript object>"
            ],
            "application/javascript": [
              "download(\"download_7958e615-d7d6-4758-a938-eca3709fddbf\", \"modelo_tizon_v20251016_2353.keras\", 67523479)"
            ]
          },
          "metadata": {}
        },
        {
          "output_type": "stream",
          "name": "stdout",
          "text": [
            " Descarga iniciada. Espera unos segundos para guardar el archivo en tu PC.\n"
          ]
        }
      ]
    },
    {
      "cell_type": "code",
      "source": [
        "from google.colab import files\n",
        "from tensorflow.keras.models import load_model\n",
        "\n",
        "# === 1. Subir el modelo desde tu PC ===\n",
        "uploaded = files.upload()\n",
        "\n",
        "# Detectar automáticamente el nombre del archivo subido\n",
        "nombre_modelo = list(uploaded.keys())[0]\n",
        "print(f\"Archivo detectado: {nombre_modelo}\")\n",
        "\n",
        "# === 2. Cargar el modelo ===\n",
        "modelo = load_model(nombre_modelo)\n",
        "print(\"Modelo cargado correctamente\")\n",
        "\n",
        "\n"
      ],
      "metadata": {
        "colab": {
          "base_uri": "https://localhost:8080/",
          "height": 166
        },
        "id": "kQYWbh9qU-5c",
        "outputId": "064baed5-51b4-4525-ee62-e119f0998cda"
      },
      "execution_count": 11,
      "outputs": [
        {
          "output_type": "display_data",
          "data": {
            "text/plain": [
              "<IPython.core.display.HTML object>"
            ],
            "text/html": [
              "\n",
              "     <input type=\"file\" id=\"files-6002b870-9e22-49db-babe-4c9a249d2396\" name=\"files[]\" multiple disabled\n",
              "        style=\"border:none\" />\n",
              "     <output id=\"result-6002b870-9e22-49db-babe-4c9a249d2396\">\n",
              "      Upload widget is only available when the cell has been executed in the\n",
              "      current browser session. Please rerun this cell to enable.\n",
              "      </output>\n",
              "      <script>// Copyright 2017 Google LLC\n",
              "//\n",
              "// Licensed under the Apache License, Version 2.0 (the \"License\");\n",
              "// you may not use this file except in compliance with the License.\n",
              "// You may obtain a copy of the License at\n",
              "//\n",
              "//      http://www.apache.org/licenses/LICENSE-2.0\n",
              "//\n",
              "// Unless required by applicable law or agreed to in writing, software\n",
              "// distributed under the License is distributed on an \"AS IS\" BASIS,\n",
              "// WITHOUT WARRANTIES OR CONDITIONS OF ANY KIND, either express or implied.\n",
              "// See the License for the specific language governing permissions and\n",
              "// limitations under the License.\n",
              "\n",
              "/**\n",
              " * @fileoverview Helpers for google.colab Python module.\n",
              " */\n",
              "(function(scope) {\n",
              "function span(text, styleAttributes = {}) {\n",
              "  const element = document.createElement('span');\n",
              "  element.textContent = text;\n",
              "  for (const key of Object.keys(styleAttributes)) {\n",
              "    element.style[key] = styleAttributes[key];\n",
              "  }\n",
              "  return element;\n",
              "}\n",
              "\n",
              "// Max number of bytes which will be uploaded at a time.\n",
              "const MAX_PAYLOAD_SIZE = 100 * 1024;\n",
              "\n",
              "function _uploadFiles(inputId, outputId) {\n",
              "  const steps = uploadFilesStep(inputId, outputId);\n",
              "  const outputElement = document.getElementById(outputId);\n",
              "  // Cache steps on the outputElement to make it available for the next call\n",
              "  // to uploadFilesContinue from Python.\n",
              "  outputElement.steps = steps;\n",
              "\n",
              "  return _uploadFilesContinue(outputId);\n",
              "}\n",
              "\n",
              "// This is roughly an async generator (not supported in the browser yet),\n",
              "// where there are multiple asynchronous steps and the Python side is going\n",
              "// to poll for completion of each step.\n",
              "// This uses a Promise to block the python side on completion of each step,\n",
              "// then passes the result of the previous step as the input to the next step.\n",
              "function _uploadFilesContinue(outputId) {\n",
              "  const outputElement = document.getElementById(outputId);\n",
              "  const steps = outputElement.steps;\n",
              "\n",
              "  const next = steps.next(outputElement.lastPromiseValue);\n",
              "  return Promise.resolve(next.value.promise).then((value) => {\n",
              "    // Cache the last promise value to make it available to the next\n",
              "    // step of the generator.\n",
              "    outputElement.lastPromiseValue = value;\n",
              "    return next.value.response;\n",
              "  });\n",
              "}\n",
              "\n",
              "/**\n",
              " * Generator function which is called between each async step of the upload\n",
              " * process.\n",
              " * @param {string} inputId Element ID of the input file picker element.\n",
              " * @param {string} outputId Element ID of the output display.\n",
              " * @return {!Iterable<!Object>} Iterable of next steps.\n",
              " */\n",
              "function* uploadFilesStep(inputId, outputId) {\n",
              "  const inputElement = document.getElementById(inputId);\n",
              "  inputElement.disabled = false;\n",
              "\n",
              "  const outputElement = document.getElementById(outputId);\n",
              "  outputElement.innerHTML = '';\n",
              "\n",
              "  const pickedPromise = new Promise((resolve) => {\n",
              "    inputElement.addEventListener('change', (e) => {\n",
              "      resolve(e.target.files);\n",
              "    });\n",
              "  });\n",
              "\n",
              "  const cancel = document.createElement('button');\n",
              "  inputElement.parentElement.appendChild(cancel);\n",
              "  cancel.textContent = 'Cancel upload';\n",
              "  const cancelPromise = new Promise((resolve) => {\n",
              "    cancel.onclick = () => {\n",
              "      resolve(null);\n",
              "    };\n",
              "  });\n",
              "\n",
              "  // Wait for the user to pick the files.\n",
              "  const files = yield {\n",
              "    promise: Promise.race([pickedPromise, cancelPromise]),\n",
              "    response: {\n",
              "      action: 'starting',\n",
              "    }\n",
              "  };\n",
              "\n",
              "  cancel.remove();\n",
              "\n",
              "  // Disable the input element since further picks are not allowed.\n",
              "  inputElement.disabled = true;\n",
              "\n",
              "  if (!files) {\n",
              "    return {\n",
              "      response: {\n",
              "        action: 'complete',\n",
              "      }\n",
              "    };\n",
              "  }\n",
              "\n",
              "  for (const file of files) {\n",
              "    const li = document.createElement('li');\n",
              "    li.append(span(file.name, {fontWeight: 'bold'}));\n",
              "    li.append(span(\n",
              "        `(${file.type || 'n/a'}) - ${file.size} bytes, ` +\n",
              "        `last modified: ${\n",
              "            file.lastModifiedDate ? file.lastModifiedDate.toLocaleDateString() :\n",
              "                                    'n/a'} - `));\n",
              "    const percent = span('0% done');\n",
              "    li.appendChild(percent);\n",
              "\n",
              "    outputElement.appendChild(li);\n",
              "\n",
              "    const fileDataPromise = new Promise((resolve) => {\n",
              "      const reader = new FileReader();\n",
              "      reader.onload = (e) => {\n",
              "        resolve(e.target.result);\n",
              "      };\n",
              "      reader.readAsArrayBuffer(file);\n",
              "    });\n",
              "    // Wait for the data to be ready.\n",
              "    let fileData = yield {\n",
              "      promise: fileDataPromise,\n",
              "      response: {\n",
              "        action: 'continue',\n",
              "      }\n",
              "    };\n",
              "\n",
              "    // Use a chunked sending to avoid message size limits. See b/62115660.\n",
              "    let position = 0;\n",
              "    do {\n",
              "      const length = Math.min(fileData.byteLength - position, MAX_PAYLOAD_SIZE);\n",
              "      const chunk = new Uint8Array(fileData, position, length);\n",
              "      position += length;\n",
              "\n",
              "      const base64 = btoa(String.fromCharCode.apply(null, chunk));\n",
              "      yield {\n",
              "        response: {\n",
              "          action: 'append',\n",
              "          file: file.name,\n",
              "          data: base64,\n",
              "        },\n",
              "      };\n",
              "\n",
              "      let percentDone = fileData.byteLength === 0 ?\n",
              "          100 :\n",
              "          Math.round((position / fileData.byteLength) * 100);\n",
              "      percent.textContent = `${percentDone}% done`;\n",
              "\n",
              "    } while (position < fileData.byteLength);\n",
              "  }\n",
              "\n",
              "  // All done.\n",
              "  yield {\n",
              "    response: {\n",
              "      action: 'complete',\n",
              "    }\n",
              "  };\n",
              "}\n",
              "\n",
              "scope.google = scope.google || {};\n",
              "scope.google.colab = scope.google.colab || {};\n",
              "scope.google.colab._files = {\n",
              "  _uploadFiles,\n",
              "  _uploadFilesContinue,\n",
              "};\n",
              "})(self);\n",
              "</script> "
            ]
          },
          "metadata": {}
        },
        {
          "output_type": "stream",
          "name": "stdout",
          "text": [
            "Saving modelo_tizon_v20251016_2051.keras to modelo_tizon_v20251016_2051 (1).keras\n",
            "Archivo detectado: modelo_tizon_v20251016_2051 (1).keras\n",
            "Modelo cargado correctamente\n"
          ]
        },
        {
          "output_type": "stream",
          "name": "stderr",
          "text": [
            "/usr/local/lib/python3.12/dist-packages/keras/src/saving/saving_lib.py:802: UserWarning: Skipping variable loading for optimizer 'adam', because it has 22 variables whereas the saved optimizer has 2 variables. \n",
            "  saveable.load_own_variables(weights_store.get(inner_path))\n"
          ]
        }
      ]
    },
    {
      "cell_type": "code",
      "source": [
        "# Evaluar el modelo con el conjunto de prueba\n",
        "test_loss, test_acc = modelo.evaluate(test_ds_pre)\n",
        "print(f\"Precisión del modelo cargado: {test_acc*100:.2f}%\")\n",
        "print(f\"Pérdida final: {test_loss:.4f}\")\n",
        "\n"
      ],
      "metadata": {
        "id": "sc5p-hf71PrP",
        "colab": {
          "base_uri": "https://localhost:8080/"
        },
        "outputId": "2de1dc14-44ee-495f-ef78-674557aa2056"
      },
      "execution_count": 33,
      "outputs": [
        {
          "output_type": "stream",
          "name": "stdout",
          "text": [
            "\u001b[1m15/15\u001b[0m \u001b[32m━━━━━━━━━━━━━━━━━━━━\u001b[0m\u001b[37m\u001b[0m \u001b[1m15s\u001b[0m 857ms/step - accuracy: 0.4274 - loss: 0.6285\n",
            "Precisión del modelo cargado: 61.82%\n",
            "Pérdida final: 0.6277\n"
          ]
        }
      ]
    },
    {
      "cell_type": "code",
      "source": [
        "#\n",
        "\n",
        "\n",
        "\n",
        "\n",
        "\n",
        "#"
      ],
      "metadata": {
        "id": "9t9B9O4BdxDD"
      },
      "execution_count": null,
      "outputs": []
    }
  ]
}